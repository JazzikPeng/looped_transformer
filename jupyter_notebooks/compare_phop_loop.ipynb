{
 "cells": [
  {
   "cell_type": "code",
   "execution_count": 1,
   "id": "79ac31dd",
   "metadata": {},
   "outputs": [],
   "source": [
    "import os\n",
    "import json\n",
    "import numpy as np\n",
    "from quinine import QuinineArgumentParser\n",
    "import matplotlib.pyplot as plt\n",
    "import torch\n",
    "import torch.nn as nn\n",
    "import copy\n",
    "import matplotlib.pyplot as plt\n",
    "import torch.nn.functional as F\n",
    "\n",
    "import sys\n",
    "sys.path.append('/home/jupyter/project/looped_transformer/scripts')\n",
    "from nano_gpt import GPT2Model, GPT2Config\n",
    "\n",
    "from utils import eval_unlooped_model, aggregate_metrics, eval_looped_model\n"
   ]
  },
  {
   "cell_type": "code",
   "execution_count": 2,
   "id": "052e26f9",
   "metadata": {},
   "outputs": [],
   "source": [
    "fig_hparam = {\n",
    "    'figsize': (8, 5),\n",
    "    'labelsize': 28,\n",
    "    'ticksize': 20,\n",
    "    'linewidth': 5,\n",
    "    'fontsize': 15,\n",
    "    'titlesize': 20,\n",
    "    'markersize': 15\n",
    "}\n",
    "\n",
    "# font specification\n",
    "fontdict = {'family': 'serif',\n",
    "         'size': fig_hparam['fontsize'],\n",
    "         }"
   ]
  },
  {
   "cell_type": "code",
   "execution_count": 3,
   "id": "27c8144c",
   "metadata": {},
   "outputs": [],
   "source": [
    "device = torch.device('cuda:0')\n",
    "def get_model(model, result_dir, run_id, step, best=False):\n",
    "    if best:\n",
    "        model_path = os.path.join(result_dir, run_id, 'model_best.pt')\n",
    "        state_dict = torch.load(model_path, map_location='cpu')['state_dict']\n",
    "        best_err = torch.load(model_path, map_location='cpu')['loss']\n",
    "        print(\"saved model with loss:\", best_err)\n",
    "    if step == -1:\n",
    "        model_path = os.path.join(result_dir, run_id, 'state.pt')\n",
    "        state_dict = torch.load(model_path, map_location='cpu')['model_state_dict']\n",
    "    else:\n",
    "        model_path = os.path.join(result_dir, run_id, 'model_{}.pt'.format(step))\n",
    "        state_dict = torch.load(model_path, map_location='cpu')['model']\n",
    "    \n",
    "#     return state_dict\n",
    "    unwanted_prefix = '_orig_mod.'\n",
    "    for k,v in list(state_dict.items()):\n",
    "        if k.startswith(unwanted_prefix):\n",
    "            state_dict[k[len(unwanted_prefix):]] = state_dict.pop(k)\n",
    "    model.load_state_dict(state_dict, strict=True)\n",
    "    \n",
    "    return model\n"
   ]
  },
  {
   "cell_type": "markdown",
   "id": "d2caac5c",
   "metadata": {},
   "source": [
    "# Get Dataset"
   ]
  },
  {
   "cell_type": "code",
   "execution_count": 4,
   "id": "d8ebfa3f",
   "metadata": {},
   "outputs": [],
   "source": [
    "class LinearRegression():\n",
    "    def __init__(self, batch_size, n_points, n_dims, n_dims_truncated, device, w_star=None):\n",
    "        super(LinearRegression, self).__init__()\n",
    "        self.device = device\n",
    "        self.xs = torch.randn(batch_size, n_points, n_dims).to(device)\n",
    "        self.xs[..., n_dims_truncated:] = 0\n",
    "        w_b = torch.randn(batch_size, n_dims, 1) if w_star is None else w_star.to(device)  # [B, d, 1]\n",
    "        w_b[:, n_dims_truncated:] = 0\n",
    "        self.w_b = w_b.to(device)\n",
    "        self.ys = (self.xs @ self.w_b).sum(-1)  # [B, n]\n",
    "        \n",
    "sample_size = 1280\n",
    "batch_size = 128\n",
    "n_points = 41\n",
    "n_dims_truncated = 20\n",
    "n_dims = 20\n",
    "\n",
    "real_task = LinearRegression(sample_size, n_points, n_dims, n_dims_truncated, device)\n",
    "xs, ys, w_b = real_task.xs, real_task.ys, real_task.w_b"
   ]
  },
  {
   "cell_type": "markdown",
   "id": "e1e60e5e",
   "metadata": {},
   "source": [
    "# Load unlooped Model"
   ]
  },
  {
   "cell_type": "code",
   "execution_count": 10,
   "id": "bf12a627",
   "metadata": {},
   "outputs": [
    {
     "name": "stdout",
     "output_type": "stream",
     "text": [
      "number of parameters: 0.79M\n"
     ]
    },
    {
     "name": "stderr",
     "output_type": "stream",
     "text": [
      "/var/tmp/ipykernel_251492/2205471420.py:13: FutureWarning: You are using `torch.load` with `weights_only=False` (the current default value), which uses the default pickle module implicitly. It is possible to construct malicious pickle data which will execute arbitrary code during unpickling (See https://github.com/pytorch/pytorch/blob/main/SECURITY.md#untrusted-models for more details). In a future release, the default value for `weights_only` will be flipped to `True`. This limits the functions that could be executed during unpickling. Arbitrary objects will no longer be allowed to be loaded via this mode unless they are explicitly allowlisted by the user via `torch.serialization.add_safe_globals`. We recommend you start setting `weights_only=True` for any use case where you don't have full control of the loaded file. Please open an issue on GitHub for any issues related to this experimental feature.\n",
      "  state_dict = torch.load(model_path, map_location='cpu')['model']\n"
     ]
    }
   ],
   "source": [
    "result_dir = '/home/jupyter/project/looped_transformer/results2/phop_baseline_loop/'\n",
    "run_id = '0614230044-LR_loop_L1_ends{12}_T{5}-a013'\n",
    "\n",
    "from models import TransformerModelLoopedWithEmbLayer\n",
    "\n",
    "n_dims = 20\n",
    "n_positions = 101\n",
    "n_embd = 256\n",
    "n_layer = 1\n",
    "n_head = 8\n",
    "pred_type = 'classification'  # 'regression' or 'classification'\n",
    "\n",
    "model = TransformerModelLoopedWithEmbLayer(n_dims, n_positions, n_embd, n_layer, n_head, pred_type=pred_type)\n",
    "step = 10000\n",
    "model = get_model(model, result_dir, run_id, step)\n",
    "model = model.to(device)\n"
   ]
  },
  {
   "cell_type": "code",
   "execution_count": 11,
   "id": "fcc87610",
   "metadata": {},
   "outputs": [
    {
     "data": {
      "text/plain": [
       "TransformerModelLoopedWithEmbLayer(\n",
       "  (emb_layer): Embedding(17, 256)\n",
       "  (_read_in): Linear(in_features=256, out_features=256, bias=True)\n",
       "  (_backbone): GPT2Model(\n",
       "    (transformer): ModuleDict(\n",
       "      (wpe): Embedding(278, 256)\n",
       "      (drop): Dropout(p=0.0, inplace=False)\n",
       "      (h): ModuleList(\n",
       "        (0): Block(\n",
       "          (ln_1): LayerNorm()\n",
       "          (attn): CausalSelfAttention(\n",
       "            (c_attn): Linear(in_features=256, out_features=768, bias=True)\n",
       "            (c_proj): Linear(in_features=256, out_features=256, bias=True)\n",
       "            (attn_dropout): Dropout(p=0.0, inplace=False)\n",
       "            (resid_dropout): Dropout(p=0.0, inplace=False)\n",
       "          )\n",
       "          (ln_2): LayerNorm()\n",
       "          (mlp): MLP(\n",
       "            (c_fc): Linear(in_features=256, out_features=1024, bias=True)\n",
       "            (c_proj): Linear(in_features=1024, out_features=256, bias=True)\n",
       "            (dropout): Dropout(p=0.0, inplace=False)\n",
       "          )\n",
       "        )\n",
       "      )\n",
       "      (ln_f): LayerNorm()\n",
       "    )\n",
       "  )\n",
       "  (_read_out): Linear(in_features=256, out_features=17, bias=True)\n",
       ")"
      ]
     },
     "execution_count": 11,
     "metadata": {},
     "output_type": "execute_result"
    }
   ],
   "source": [
    "model.eval()"
   ]
  },
  {
   "cell_type": "markdown",
   "id": "b8021c2c",
   "metadata": {},
   "source": [
    "## Load looped transformer with T=5, b=12, Random W_b"
   ]
  },
  {
   "cell_type": "code",
   "execution_count": 7,
   "id": "2b06a0de",
   "metadata": {},
   "outputs": [
    {
     "name": "stdout",
     "output_type": "stream",
     "text": [
      "number of parameters: 0.79M\n",
      "0\n"
     ]
    },
    {
     "name": "stderr",
     "output_type": "stream",
     "text": [
      "/var/tmp/ipykernel_3284862/2205471420.py:10: FutureWarning: You are using `torch.load` with `weights_only=False` (the current default value), which uses the default pickle module implicitly. It is possible to construct malicious pickle data which will execute arbitrary code during unpickling (See https://github.com/pytorch/pytorch/blob/main/SECURITY.md#untrusted-models for more details). In a future release, the default value for `weights_only` will be flipped to `True`. This limits the functions that could be executed during unpickling. Arbitrary objects will no longer be allowed to be loaded via this mode unless they are explicitly allowlisted by the user via `torch.serialization.add_safe_globals`. We recommend you start setting `weights_only=True` for any use case where you don't have full control of the loaded file. Please open an issue on GitHub for any issues related to this experimental feature.\n",
      "  state_dict = torch.load(model_path, map_location='cpu')['model_state_dict']\n"
     ]
    }
   ],
   "source": [
    "from models import TransformerModelLooped\n",
    "\n",
    "result_dir = '../results2/linear_regression_loop'\n",
    "run_id = '0524072558-LR_loop_L1_ends{12}_T{5}-3b39'\n",
    "\n",
    "n_positions = 101\n",
    "n_embd = 256\n",
    "n_head = 8\n",
    "T = 500\n",
    "n_layer = 1\n",
    "\n",
    "model = TransformerModelLooped(n_dims, n_positions, n_embd, n_layer, n_head)\n",
    "step = -1\n",
    "model = get_model(model, result_dir, run_id, step)\n",
    "model = model.to(device)\n",
    "    \n",
    "err, loop_err = eval_looped_model(model, xs, ys, loop_max=T)\n",
    "\n",
    "result_errs['Looped Transformer Random W_B'] = err"
   ]
  },
  {
   "cell_type": "markdown",
   "id": "4004fd28",
   "metadata": {},
   "source": [
    "## Load looped transformer with fixed W_b"
   ]
  },
  {
   "cell_type": "code",
   "execution_count": 8,
   "id": "e9b0ef29",
   "metadata": {},
   "outputs": [
    {
     "name": "stdout",
     "output_type": "stream",
     "text": [
      "number of parameters: 0.79M\n",
      "0\n"
     ]
    },
    {
     "name": "stderr",
     "output_type": "stream",
     "text": [
      "/var/tmp/ipykernel_3284862/2205471420.py:10: FutureWarning: You are using `torch.load` with `weights_only=False` (the current default value), which uses the default pickle module implicitly. It is possible to construct malicious pickle data which will execute arbitrary code during unpickling (See https://github.com/pytorch/pytorch/blob/main/SECURITY.md#untrusted-models for more details). In a future release, the default value for `weights_only` will be flipped to `True`. This limits the functions that could be executed during unpickling. Arbitrary objects will no longer be allowed to be loaded via this mode unless they are explicitly allowlisted by the user via `torch.serialization.add_safe_globals`. We recommend you start setting `weights_only=True` for any use case where you don't have full control of the loaded file. Please open an issue on GitHub for any issues related to this experimental feature.\n",
      "  state_dict = torch.load(model_path, map_location='cpu')['model_state_dict']\n"
     ]
    }
   ],
   "source": [
    "from models import TransformerModelLooped\n",
    "\n",
    "result_dir = '../results2/linear_regression_loop'\n",
    "run_id = '0520050529-LR_loop_L1_ends{12}_T{5}-4b70'\n",
    "\n",
    "n_positions = 101\n",
    "n_embd = 256\n",
    "n_head = 8\n",
    "T = 500\n",
    "n_layer = 1\n",
    "\n",
    "model = TransformerModelLooped(n_dims, n_positions, n_embd, n_layer, n_head)\n",
    "step = -1\n",
    "model = get_model(model, result_dir, run_id, step)\n",
    "model = model.to(device)\n",
    "    \n",
    "err, loop_err = eval_looped_model(model, xs, ys, loop_max=T)\n",
    "\n",
    "result_errs['Looped Transformer Fixed W_B'] = err"
   ]
  },
  {
   "cell_type": "markdown",
   "id": "2c5e6618",
   "metadata": {},
   "source": [
    "## Load looped transformer with different T=15 and B=12"
   ]
  },
  {
   "cell_type": "code",
   "execution_count": 9,
   "id": "6f7a5378",
   "metadata": {},
   "outputs": [
    {
     "name": "stdout",
     "output_type": "stream",
     "text": [
      "number of parameters: 0.79M\n",
      "0\n"
     ]
    },
    {
     "name": "stderr",
     "output_type": "stream",
     "text": [
      "/var/tmp/ipykernel_3284862/2205471420.py:10: FutureWarning: You are using `torch.load` with `weights_only=False` (the current default value), which uses the default pickle module implicitly. It is possible to construct malicious pickle data which will execute arbitrary code during unpickling (See https://github.com/pytorch/pytorch/blob/main/SECURITY.md#untrusted-models for more details). In a future release, the default value for `weights_only` will be flipped to `True`. This limits the functions that could be executed during unpickling. Arbitrary objects will no longer be allowed to be loaded via this mode unless they are explicitly allowlisted by the user via `torch.serialization.add_safe_globals`. We recommend you start setting `weights_only=True` for any use case where you don't have full control of the loaded file. Please open an issue on GitHub for any issues related to this experimental feature.\n",
      "  state_dict = torch.load(model_path, map_location='cpu')['model_state_dict']\n"
     ]
    }
   ],
   "source": [
    "from models import TransformerModelLooped\n",
    "\n",
    "result_dir = '../results2/linear_regression_loop'\n",
    "run_id = '0525030251-LR_loop_L1_ends{12}_T{15}-3807'\n",
    "\n",
    "n_positions = 101\n",
    "n_embd = 256\n",
    "n_head = 8\n",
    "T = 500\n",
    "n_layer = 1\n",
    "\n",
    "model = TransformerModelLooped(n_dims, n_positions, n_embd, n_layer, n_head)\n",
    "step = -1\n",
    "model = get_model(model, result_dir, run_id, step)\n",
    "model = model.to(device)\n",
    "    \n",
    "err, loop_err = eval_looped_model(model, xs, ys, loop_max=T)\n",
    "\n",
    "result_errs['Looped Transformer B12T15'] = err"
   ]
  },
  {
   "cell_type": "markdown",
   "id": "42c68bca",
   "metadata": {},
   "source": [
    "## Load looped transformer with T=5 and B=30"
   ]
  },
  {
   "cell_type": "code",
   "execution_count": 10,
   "id": "9ca83b79",
   "metadata": {},
   "outputs": [
    {
     "name": "stdout",
     "output_type": "stream",
     "text": [
      "number of parameters: 0.79M\n",
      "0\n"
     ]
    },
    {
     "name": "stderr",
     "output_type": "stream",
     "text": [
      "/var/tmp/ipykernel_3284862/2205471420.py:10: FutureWarning: You are using `torch.load` with `weights_only=False` (the current default value), which uses the default pickle module implicitly. It is possible to construct malicious pickle data which will execute arbitrary code during unpickling (See https://github.com/pytorch/pytorch/blob/main/SECURITY.md#untrusted-models for more details). In a future release, the default value for `weights_only` will be flipped to `True`. This limits the functions that could be executed during unpickling. Arbitrary objects will no longer be allowed to be loaded via this mode unless they are explicitly allowlisted by the user via `torch.serialization.add_safe_globals`. We recommend you start setting `weights_only=True` for any use case where you don't have full control of the loaded file. Please open an issue on GitHub for any issues related to this experimental feature.\n",
      "  state_dict = torch.load(model_path, map_location='cpu')['model_state_dict']\n"
     ]
    }
   ],
   "source": [
    "from models import TransformerModelLooped\n",
    "\n",
    "result_dir = '../results2/linear_regression_loop'\n",
    "run_id = '0524191803-LR_loop_L1_ends{30}_T{5}-33f4'\n",
    "\n",
    "n_positions = 101\n",
    "n_embd = 256\n",
    "n_head = 8\n",
    "T = 500\n",
    "n_layer = 1\n",
    "\n",
    "model = TransformerModelLooped(n_dims, n_positions, n_embd, n_layer, n_head)\n",
    "step = -1\n",
    "model = get_model(model, result_dir, run_id, step)\n",
    "model = model.to(device)\n",
    "    \n",
    "err, loop_err = eval_looped_model(model, xs, ys, loop_max=T)\n",
    "\n",
    "result_errs['Looped Transformer B30T5'] = err"
   ]
  },
  {
   "cell_type": "markdown",
   "id": "a2a722d4",
   "metadata": {},
   "source": [
    "## Load Looped Transformer with T=5, b=50"
   ]
  },
  {
   "cell_type": "code",
   "execution_count": 15,
   "id": "c0385d88",
   "metadata": {},
   "outputs": [
    {
     "name": "stdout",
     "output_type": "stream",
     "text": [
      "number of parameters: 0.79M\n",
      "0\n"
     ]
    },
    {
     "name": "stderr",
     "output_type": "stream",
     "text": [
      "/var/tmp/ipykernel_3284862/2205471420.py:10: FutureWarning: You are using `torch.load` with `weights_only=False` (the current default value), which uses the default pickle module implicitly. It is possible to construct malicious pickle data which will execute arbitrary code during unpickling (See https://github.com/pytorch/pytorch/blob/main/SECURITY.md#untrusted-models for more details). In a future release, the default value for `weights_only` will be flipped to `True`. This limits the functions that could be executed during unpickling. Arbitrary objects will no longer be allowed to be loaded via this mode unless they are explicitly allowlisted by the user via `torch.serialization.add_safe_globals`. We recommend you start setting `weights_only=True` for any use case where you don't have full control of the loaded file. Please open an issue on GitHub for any issues related to this experimental feature.\n",
      "  state_dict = torch.load(model_path, map_location='cpu')['model_state_dict']\n"
     ]
    }
   ],
   "source": [
    "from models import TransformerModelLooped\n",
    "\n",
    "result_dir = '../results2/linear_regression_loop'\n",
    "run_id = '0526165732-LR_loop_L1_ends{50}_T{5}-a3bf'\n",
    "\n",
    "n_positions = 101\n",
    "n_embd = 256\n",
    "n_head = 8\n",
    "T = 500\n",
    "n_layer = 1\n",
    "\n",
    "model = TransformerModelLooped(n_dims, n_positions, n_embd, n_layer, n_head)\n",
    "step = -1\n",
    "model = get_model(model, result_dir, run_id, step)\n",
    "model = model.to(device)\n",
    "    \n",
    "err, loop_err = eval_looped_model(model, xs, ys, loop_max=T)\n",
    "\n",
    "result_errs['Looped Transformer B50T5'] = err"
   ]
  },
  {
   "cell_type": "markdown",
   "id": "03c4087e",
   "metadata": {},
   "source": [
    "## Also get the \"weak\" baseline"
   ]
  },
  {
   "cell_type": "code",
   "execution_count": 16,
   "id": "88549713",
   "metadata": {},
   "outputs": [],
   "source": [
    "from utils import get_relevant_baselines\n",
    "\n",
    "baselines = get_relevant_baselines(\"linear_regression\")\n",
    "# baseline_errs = {}\n",
    "for baseline_model in baselines:\n",
    "    y_pred = baseline_model(xs, ys)\n",
    "    err = (y_pred.cpu() - ys.cpu()).square()\n",
    "    result_errs[baseline_model.name] = err\n",
    "    "
   ]
  },
  {
   "cell_type": "code",
   "execution_count": 17,
   "id": "ef2e65c1",
   "metadata": {},
   "outputs": [],
   "source": [
    "result_errs_agg = aggregate_metrics(result_errs, n_dims_truncated)"
   ]
  },
  {
   "cell_type": "code",
   "execution_count": 18,
   "id": "e398ddae",
   "metadata": {},
   "outputs": [
    {
     "data": {
      "text/plain": [
       "dict_keys(['Transformer', 'Looped Transformer Random W_B', 'Looped Transformer Fixed W_B', 'Looped Transformer B12T15', 'Looped Transformer B30T5', 'Least Squares', '3-Nearest Neighbors', 'Averaging', 'Looped Transformer B50T5'])"
      ]
     },
     "execution_count": 18,
     "metadata": {},
     "output_type": "execute_result"
    }
   ],
   "source": [
    "result_errs_agg.keys()"
   ]
  },
  {
   "cell_type": "code",
   "execution_count": 22,
   "id": "b276cc6b",
   "metadata": {},
   "outputs": [
    {
     "data": {
      "image/png": "[encoded data removed]",
      "text/plain": [
       "<Figure size 800x500 with 1 Axes>"
      ]
     },
     "metadata": {},
     "output_type": "display_data"
    }
   ],
   "source": [
    "import matplotlib.pyplot as plt\n",
    "import matplotlib\n",
    "\n",
    "fig, ax = plt.subplots(1, figsize=fig_hparam['figsize'])\n",
    "\n",
    "err_result_dict_agg = result_errs_agg\n",
    "\n",
    "cmap = matplotlib.cm.get_cmap(\"coolwarm\")\n",
    "result_name_list = ['Transformer', 'Looped Transformer Random W_B', 'Looped Transformer B50T5']  # , \n",
    "colors = cmap(np.linspace(0, 1, len(result_name_list)))\n",
    "for idx, model_name in enumerate(result_name_list):\n",
    "    err = err_result_dict_agg[model_name][\"mean\"]\n",
    "    ax.plot(err, color=colors[idx], lw=fig_hparam['linewidth'], label=model_name.capitalize())\n",
    "    low = err_result_dict_agg[model_name][\"bootstrap_low\"]\n",
    "    high = err_result_dict_agg[model_name][\"bootstrap_high\"]\n",
    "    ax.fill_between(range(len(low)), low, high, alpha=0.3, color=colors[idx])\n",
    "\n",
    "ax.tick_params(axis='both', labelsize=fig_hparam['ticksize'])\n",
    "ax.axhline(1, color='k', ls='--', lw=fig_hparam['linewidth'])\n",
    "ax.set_ylim(-0.1, 2.25)\n",
    "# plt.xticks(np.arange(0, n_points))\n",
    "plt.rc('font', family='serif')\n",
    "ax.set_xlabel(\"in-context examples\", fontsize=fig_hparam['labelsize'])\n",
    "y_label = ax.set_ylabel(\"squared error\", fontsize=fig_hparam['labelsize'])\n",
    "legend = plt.legend(loc='center left', bbox_to_anchor=(1, 0.5), fontsize=fig_hparam['fontsize'])\n",
    "\n",
    "\n",
    "# plt.savefig(\"result_folder/Figures/LR_err.pdf\", format='pdf', dpi=600, bbox_inches='tight')"
   ]
  },
  {
   "cell_type": "code",
   "execution_count": null,
   "id": "38099be6",
   "metadata": {},
   "outputs": [],
   "source": []
  }
 ],
 "metadata": {
  "kernelspec": {
   "display_name": "loop_tf",
   "language": "python",
   "name": "python3"
  },
  "language_info": {
   "codemirror_mode": {
    "name": "ipython",
    "version": 3
   },
   "file_extension": ".py",
   "mimetype": "text/x-python",
   "name": "python",
   "nbconvert_exporter": "python",
   "pygments_lexer": "ipython3",
   "version": "3.8.12"
  }
 },
 "nbformat": 4,
 "nbformat_minor": 5
}
